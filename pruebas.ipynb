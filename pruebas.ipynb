{
 "cells": [
  {
   "cell_type": "code",
   "execution_count": 1,
   "id": "8631ccf5",
   "metadata": {},
   "outputs": [
    {
     "name": "stdout",
     "output_type": "stream",
     "text": [
      "['StateAbbr', 'StateDesc', 'CountyName', 'CountyFIPS', 'TotalPopulation', 'TotalPop18plus', 'ACCESS2_CrudePrev', 'ACCESS2_Crude95CI', 'ACCESS2_AdjPrev', 'ACCESS2_Adj95CI', 'ARTHRITIS_CrudePrev', 'ARTHRITIS_Crude95CI', 'ARTHRITIS_AdjPrev', 'ARTHRITIS_Adj95CI', 'BINGE_CrudePrev', 'BINGE_Crude95CI', 'BINGE_AdjPrev', 'BINGE_Adj95CI', 'BPHIGH_CrudePrev', 'BPHIGH_Crude95CI', 'BPHIGH_AdjPrev', 'BPHIGH_Adj95CI', 'BPMED_CrudePrev', 'BPMED_Crude95CI', 'BPMED_AdjPrev', 'BPMED_Adj95CI', 'CANCER_CrudePrev', 'CANCER_Crude95CI', 'CANCER_AdjPrev', 'CANCER_Adj95CI', 'CASTHMA_CrudePrev', 'CASTHMA_Crude95CI', 'CASTHMA_AdjPrev', 'CASTHMA_Adj95CI', 'CHD_CrudePrev', 'CHD_Crude95CI', 'CHD_AdjPrev', 'CHD_Adj95CI', 'CHECKUP_CrudePrev', 'CHECKUP_Crude95CI', 'CHECKUP_AdjPrev', 'CHECKUP_Adj95CI', 'CHOLSCREEN_CrudePrev', 'CHOLSCREEN_Crude95CI', 'CHOLSCREEN_AdjPrev', 'CHOLSCREEN_Adj95CI', 'COLON_SCREEN_CrudePrev', 'COLON_SCREEN_Crude95CI', 'COLON_SCREEN_AdjPrev', 'COLON_SCREEN_Adj95CI', 'COPD_CrudePrev', 'COPD_Crude95CI', 'COPD_AdjPrev', 'COPD_Adj95CI', 'CSMOKING_CrudePrev', 'CSMOKING_Crude95CI', 'CSMOKING_AdjPrev', 'CSMOKING_Adj95CI', 'DENTAL_CrudePrev', 'DENTAL_Crude95CI', 'DENTAL_AdjPrev', 'DENTAL_Adj95CI', 'DEPRESSION_CrudePrev', 'DEPRESSION_Crude95CI', 'DEPRESSION_AdjPrev', 'DEPRESSION_Adj95CI', 'DIABETES_CrudePrev', 'DIABETES_Crude95CI', 'DIABETES_AdjPrev', 'DIABETES_Adj95CI', 'GHLTH_CrudePrev', 'GHLTH_Crude95CI', 'GHLTH_AdjPrev', 'GHLTH_Adj95CI', 'HIGHCHOL_CrudePrev', 'HIGHCHOL_Crude95CI', 'HIGHCHOL_AdjPrev', 'HIGHCHOL_Adj95CI', 'LPA_CrudePrev', 'LPA_Crude95CI', 'LPA_AdjPrev', 'LPA_Adj95CI', 'MAMMOUSE_CrudePrev', 'MAMMOUSE_Crude95CI', 'MAMMOUSE_AdjPrev', 'MAMMOUSE_Adj95CI', 'MHLTH_CrudePrev', 'MHLTH_Crude95CI', 'MHLTH_AdjPrev', 'MHLTH_Adj95CI', 'OBESITY_CrudePrev', 'OBESITY_Crude95CI', 'OBESITY_AdjPrev', 'OBESITY_Adj95CI', 'PHLTH_CrudePrev', 'PHLTH_Crude95CI', 'PHLTH_AdjPrev', 'PHLTH_Adj95CI', 'SLEEP_CrudePrev', 'SLEEP_Crude95CI', 'SLEEP_AdjPrev', 'SLEEP_Adj95CI', 'STROKE_CrudePrev', 'STROKE_Crude95CI', 'STROKE_AdjPrev', 'STROKE_Adj95CI', 'TEETHLOST_CrudePrev', 'TEETHLOST_Crude95CI', 'TEETHLOST_AdjPrev', 'TEETHLOST_Adj95CI', 'HEARING_CrudePrev', 'HEARING_Crude95CI', 'HEARING_AdjPrev', 'HEARING_Adj95CI', 'VISION_CrudePrev', 'VISION_Crude95CI', 'VISION_AdjPrev', 'VISION_Adj95CI', 'COGNITION_CrudePrev', 'COGNITION_Crude95CI', 'COGNITION_AdjPrev', 'COGNITION_Adj95CI', 'MOBILITY_CrudePrev', 'MOBILITY_Crude95CI', 'MOBILITY_AdjPrev', 'MOBILITY_Adj95CI', 'SELFCARE_CrudePrev', 'SELFCARE_Crude95CI', 'SELFCARE_AdjPrev', 'SELFCARE_Adj95CI', 'INDEPLIVE_CrudePrev', 'INDEPLIVE_Crude95CI', 'INDEPLIVE_AdjPrev', 'INDEPLIVE_Adj95CI', 'DISABILITY_CrudePrev', 'DISABILITY_Crude95CI', 'DISABILITY_AdjPrev', 'DISABILITY_Adj95CI', 'ISOLATION_CrudePrev', 'ISOLATION_Crude95CI', 'ISOLATION_AdjPrev', 'ISOLATION_Adj95CI', 'FOODSTAMP_CrudePrev', 'FOODSTAMP_Crude95ci', 'FOODSTAMP_AdjPrev', 'FOODSTAMP_Adj95CI', 'FOODINSECU_CrudePrev', 'FOODINSECU_Crude95CI', 'FOODINSECU_AdjPrev', 'FOODINSECU_Adj95CI', 'HOUSINSECU_CrudePrev', 'HOUSINSECU_Crude95CI', 'HOUSINSECU_AdjPrev', 'HOUSINSECU_Adj95CI', 'SHUTUTILITY_CrudePrev', 'SHUTUTILITY_Crude95CI', 'SHUTUTILITY_AdjPrev', 'SHUTUTILITY_Adj95CI', 'LACKTRPT_CrudePrev', 'LACKTRPT_Crude95CI', 'LACKTRPT_AdjPrev', 'LACKTRPT_Adj95CI', 'EMOTIONSPT_CrudePrev', 'EMOTIONSPT_Crude95CI', 'EMOTIONSPT_AdjPrev', 'EMOTIONSPT_Adj95CI', 'Geolocation']\n"
     ]
    }
   ],
   "source": [
    "import pandas as pd\n",
    "df = pd.read_csv(\"data/raw/places_county_2024.csv\", nrows=5)\n",
    "print(df.columns.tolist())\n"
   ]
  }
 ],
 "metadata": {
  "kernelspec": {
   "display_name": "env",
   "language": "python",
   "name": "python3"
  },
  "language_info": {
   "codemirror_mode": {
    "name": "ipython",
    "version": 3
   },
   "file_extension": ".py",
   "mimetype": "text/x-python",
   "name": "python",
   "nbconvert_exporter": "python",
   "pygments_lexer": "ipython3",
   "version": "3.13.3"
  }
 },
 "nbformat": 4,
 "nbformat_minor": 5
}
